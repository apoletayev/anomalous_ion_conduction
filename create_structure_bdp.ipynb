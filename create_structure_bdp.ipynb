{
 "cells": [
  {
   "cell_type": "code",
   "execution_count": 9,
   "id": "6fe5efab-be8e-4a12-99f8-b7ca2621b0ed",
   "metadata": {},
   "outputs": [],
   "source": [
    "import sys, os\n",
    "if os.path.join(os.path.abspath(os.getcwd()), \"utils\") not in sys.path :\n",
    "    sys.path.append(os.path.join(os.path.abspath(os.getcwd()), \"utils\"))\n",
    "\n",
    "import pandas as pd\n",
    "import numpy as np\n",
    "import networkx as nx\n",
    "\n",
    "import freud, random\n",
    "\n",
    "from matplotlib import pyplot as plt\n",
    "\n",
    "import crystal_utils as cu"
   ]
  },
  {
   "cell_type": "code",
   "execution_count": 10,
   "id": "d6eb682e-77d2-4207-965b-d10e4aa02777",
   "metadata": {},
   "outputs": [],
   "source": [
    "## starting input .CONFIG file with atoms\n",
    "prod_file = './templates/bdp_template_12101.CONFIG'  ## starting input file\n",
    "\n",
    "## parameters: metal_input is in the starting file; metal_output gets written.\n",
    "metal_input  = 'Ag'\n",
    "metal_output = 'Na'\n",
    "\n",
    "## defect atom, typically 'Mg'. 'Li' works too.\n",
    "defect = 'Mg'\n",
    "\n",
    "## rule for placing defects: 'unsym', 'symm', 'all', 'Al4'\n",
    "rule = 'unsym'\n",
    "enforce_d = True if rule == 'symm' else False\n",
    "\n",
    "## exclude: minimum enforced distance between defects\n",
    "# excl = 1 if defect == 'Li' else 0\n",
    "excl = 0\n",
    "\n",
    "## reset seed once for the whole run\n",
    "random.seed(23)"
   ]
  },
  {
   "cell_type": "code",
   "execution_count": 11,
   "id": "055ca0cf-eed3-4e0f-8ed9-46e1de34b061",
   "metadata": {},
   "outputs": [
    {
     "name": "stdout",
     "output_type": "stream",
     "text": [
      "Input file has dimensions (UC): 10.0 x 12.0 x 1.0\n",
      "Input file has dimensions (AA): 56.3 x 58.5084 x 33.45\n"
     ]
    }
   ],
   "source": [
    "## create a dummy output directory\n",
    "to_dir = f'./{metal_output} {rule}_{excl} {defect}-doped/'\n",
    "if not os.path.exists(to_dir): os.makedirs(to_dir)\n",
    "\n",
    "## read the input .CONFIG file\n",
    "phase, intro_line, cell, atoms = cu.read_poly(prod_file, fractional=False)\n",
    "\n",
    "## set a shorthand, this is only for fractional=False just above.\n",
    "Lx = cell[0, 0]\n",
    "Ly = cell[1, 1]\n",
    "Lz = cell[2, 2]\n",
    "\n",
    "## find the dimensions of the file. \n",
    "dimension = [5.630, 9.7514/2, 33.45]\n",
    "x_dimension = cell[0, 0] / dimension[0]\n",
    "y_dimension = cell[1, 1] / dimension[1]\n",
    "z_dimension = cell[2, 2] / dimension[2]\n",
    "\n",
    "# print(f\"Input file has dimensions (UC): {x_dimension:.1f} x {y_dimension:.1f} x {z_dimension:.1f}\")\n",
    "# print(f\"Input file has dimensions (AA): {cell[0, 0]} x {cell[1, 1]} x {cell[2, 2]}\")\n",
    "\n",
    "## Find all z-coordinates for conduction planes in the input file: this outputs a list of z-coordinates.\n",
    "## The z coordinate is now either fractional (from -0.5 to +0.5) or real (angstroms)\n",
    "planes = cu.get_conduction_planes(atoms, metal_input, inexact=True)\n",
    "\n",
    "## Find the number of Al atoms that will be randomly substituted by Mg.\n",
    "## num_sub_al = \"Number of (will be) substituted aluminium\".\n",
    "num_defects_to_be = int( cu.find_no_sub_al(atoms, x= 1/3 if defect == 'Li' else 2/3) / len(planes) )\n",
    "\n",
    "## add symmetry to the atoms, e.g. Al1, Al2, etc.\n",
    "new_atoms = cu.add_symmetry_bdp(atoms,cell, metal_input, frac=False)\n",
    "al4_atoms = new_atoms.query('symm == \"Al4\"')\n",
    "al2_atoms = new_atoms.query('symm == \"Al2\"')"
   ]
  },
  {
   "cell_type": "code",
   "execution_count": null,
   "id": "4efde88e-bc06-4ea0-8a39-90e9152ef601",
   "metadata": {},
   "outputs": [],
   "source": []
  }
 ],
 "metadata": {
  "kernelspec": {
   "display_name": "Python 3",
   "language": "python",
   "name": "python3"
  },
  "language_info": {
   "codemirror_mode": {
    "name": "ipython",
    "version": 3
   },
   "file_extension": ".py",
   "mimetype": "text/x-python",
   "name": "python",
   "nbconvert_exporter": "python",
   "pygments_lexer": "ipython3",
   "version": "3.8.10"
  }
 },
 "nbformat": 4,
 "nbformat_minor": 5
}
